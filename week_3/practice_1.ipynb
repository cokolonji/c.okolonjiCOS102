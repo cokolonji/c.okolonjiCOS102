{
 "cells": [
  {
   "cell_type": "code",
   "execution_count": 1,
   "id": "906f28cb-d1f6-49ee-ae23-71258e3e5d4c",
   "metadata": {},
   "outputs": [
    {
     "name": "stdin",
     "output_type": "stream",
     "text": [
      "Enter your state of origin: Abeokuta\n"
     ]
    },
    {
     "name": "stdout",
     "output_type": "stream",
     "text": [
      "Your state of origin is:  Abeokuta\n",
      "The first character is:  A\n",
      "The characters starting from 3rd to 5th are: eok\n",
      "The string starting from 3rd character is:  eokuta\n",
      " State of origin two times:  AbeokutaAbeokuta\n"
     ]
    }
   ],
   "source": [
    "str = input(\"Enter your state of origin:\")\n",
    "\n",
    "print (\"Your state of origin is: \",str)\n",
    "print (\"The first character is: \",str[0])\n",
    "print (\"The characters starting from 3rd to 5th are:\",str[2:5])\n",
    "print (\"The string starting from 3rd character is: \",str[2:])\n",
    "print (\" State of origin two times: \",str * 2)"
   ]
  },
  {
   "cell_type": "code",
   "execution_count": null,
   "id": "1609842e-f3a5-4b5b-bca2-e750f2f5547a",
   "metadata": {},
   "outputs": [],
   "source": []
  }
 ],
 "metadata": {
  "kernelspec": {
   "display_name": "Python 3 (ipykernel)",
   "language": "python",
   "name": "python3"
  },
  "language_info": {
   "codemirror_mode": {
    "name": "ipython",
    "version": 3
   },
   "file_extension": ".py",
   "mimetype": "text/x-python",
   "name": "python",
   "nbconvert_exporter": "python",
   "pygments_lexer": "ipython3",
   "version": "3.11.7"
  }
 },
 "nbformat": 4,
 "nbformat_minor": 5
}
