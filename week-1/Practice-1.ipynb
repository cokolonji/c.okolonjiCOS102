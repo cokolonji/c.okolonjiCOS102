{
 "cells": [
  {
   "cell_type": "code",
   "execution_count": 3,
   "id": "e58dca07-98c9-42d3-96e2-6fb20b9105bd",
   "metadata": {},
   "outputs": [
    {
     "name": "stdout",
     "output_type": "stream",
     "text": [
      "100\n",
      "Data Type of variable num is <class 'int'>\n",
      "34.45\n",
      "Data type of variable fnum is <class 'float'>\n",
      "(3+4j)\n"
     ]
    },
    {
     "data": {
      "text/plain": [
       "('Data Type of variable cum is ', complex)"
      ]
     },
     "execution_count": 3,
     "metadata": {},
     "output_type": "execute_result"
    }
   ],
   "source": [
    "# Integer number \n",
    "num= 100\n",
    "print(num)\n",
    "print(\"Data Type of variable num is\", type(num))\n",
    "\n",
    "# float number \n",
    "fnum= 34.45\n",
    "print(fnum)\n",
    "print(\"Data type of variable fnum is\", type(fnum))\n",
    "\n",
    "# complex number \n",
    "cnum = 3 + 4j\n",
    "print(cnum)\n",
    "(\"Data Type of variable cum is \",type(cnum))"
   ]
  },
  {
   "cell_type": "code",
   "execution_count": null,
   "id": "0fea4756-a686-4d2d-93ac-f5e4def2d46e",
   "metadata": {},
   "outputs": [],
   "source": []
  }
 ],
 "metadata": {
  "kernelspec": {
   "display_name": "Python 3 (ipykernel)",
   "language": "python",
   "name": "python3"
  },
  "language_info": {
   "codemirror_mode": {
    "name": "ipython",
    "version": 3
   },
   "file_extension": ".py",
   "mimetype": "text/x-python",
   "name": "python",
   "nbconvert_exporter": "python",
   "pygments_lexer": "ipython3",
   "version": "3.11.7"
  }
 },
 "nbformat": 4,
 "nbformat_minor": 5
}
