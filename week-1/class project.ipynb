{
 "cells": [
  {
   "cell_type": "code",
   "execution_count": 6,
   "id": "1a359acc-bc1e-438a-ad0c-91362f7b6d32",
   "metadata": {},
   "outputs": [
    {
     "name": "stdin",
     "output_type": "stream",
     "text": [
      "Enter Principal amount:  200\n",
      "Enter Rate of Interest:  5\n",
      "Enter Time period in years:  6\n"
     ]
    },
    {
     "name": "stdout",
     "output_type": "stream",
     "text": [
      "Simple Interest: 260.0\n"
     ]
    }
   ],
   "source": [
    "def calculate_simple_interest(principle, rate, time):\n",
    "    \"\"\"\n",
    "    Calculate simple interest.\n",
    "    \n",
    "    Args:\n",
    "    principle (float): Principle amount.\n",
    "    rate (float): Rate of interest.\n",
    "    time (float): Time period in years.\n",
    "    \n",
    "    Returns:\n",
    "    float: Simple interest.\n",
    "    \"\"\"\n",
    "    simple_interest = principle*(1+(rate/100)*time)\n",
    "    return simple_interest\n",
    "\n",
    "def main():\n",
    "    principle = float(input(\"Enter Principal amount: \"))\n",
    "    rate = float(input(\"Enter Rate of Interest: \"))\n",
    "    time = float(input(\"Enter Time period in years: \"))\n",
    "    \n",
    "    simple_interest = calculate_simple_interest(principle, rate, time)\n",
    "    \n",
    "    print(\"Simple Interest:\", simple_interest)\n",
    "\n",
    "if __name__ == \"__main__\":\n",
    "    main()"
   ]
  },
  {
   "cell_type": "code",
   "execution_count": 15,
   "id": "5790a105-f701-4881-8b00-07a05a17085a",
   "metadata": {},
   "outputs": [
    {
     "name": "stdin",
     "output_type": "stream",
     "text": [
      "Enter Principal amount:  200\n",
      "Enter Rate of Interest:  5\n",
      "Enter Time period in years:  6\n",
      "Enter the number of times interest is compounded per year:  3\n"
     ]
    },
    {
     "name": "stdout",
     "output_type": "stream",
     "text": [
      "Compound Interest: 9299662264.110157\n"
     ]
    }
   ],
   "source": [
    "def calculate_compound_interest(principle, rate, time, number_of_time):\n",
    "    \"\"\"\n",
    "    Calculate compound interest.\n",
    "    \n",
    "    Args:\n",
    "    principle (float): Principal amount.\n",
    "    rate (float): Rate of interest.\n",
    "    time (float): Time period in years.\n",
    "    number_of_time: number of times interest is compounded per year.\n",
    "    \n",
    "    Returns:\n",
    "    float: compound interest.\n",
    "    \"\"\"\n",
    "    compound_interest = principle * (1 + (rate / number_of_time)) ** (number_of_time * time)\n",
    "    return compound_interest\n",
    "\n",
    "def main():\n",
    "    principle = float(input(\"Enter Principal amount: \"))\n",
    "    rate = float(input(\"Enter Rate of Interest: \"))\n",
    "    time = float(input(\"Enter Time period in years: \"))\n",
    "    number_of_time = float(input(\"Enter the number of times interest is compounded per year: \"))\n",
    "    \n",
    "    compound_interest = calculate_compound_interest(principle, rate, time, number_of_time)\n",
    "    \n",
    "    print(\"Compound Interest:\", compound_interest)\n",
    "\n",
    "if __name__ == \"__main__\":\n",
    "    main()"
   ]
  },
  {
   "cell_type": "code",
   "execution_count": 21,
   "id": "8a8b38a1-ad8f-46d6-b41b-9cd71e459a05",
   "metadata": {},
   "outputs": [
    {
     "name": "stdin",
     "output_type": "stream",
     "text": [
      "Enter the periodic payment (PMT):  5\n",
      "Enter the annual interest rate (in decimal):  6\n",
      "Enter the number of times interest is compounded per year:  7\n",
      "Enter the number of years:  8\n"
     ]
    },
    {
     "name": "stdout",
     "output_type": "stream",
     "text": [
      "The annuity plan is: 6626043494674298.0\n"
     ]
    }
   ],
   "source": [
    "def calculate_annuity(PMT, R, n, t):\n",
    "    \"\"\"\n",
    "    Args:\n",
    "    PMT (float): Payment.\n",
    "    R (float): Rate of interest.\n",
    "    t (float): Time period in years.\n",
    "    n (float): number of times interest is compound per year.\n",
    "   \n",
    "    returns: \n",
    "    float: annuity plan\n",
    "    \"\"\"\n",
    "    x = R / n\n",
    "    y = n * t\n",
    "    z = (1 + x) ** y\n",
    "    annuity_plan = PMT * (z - 1) / x \n",
    "    return annuity_plan\n",
    "    \n",
    "def main():\n",
    "    PMT = float(input(\"Enter the periodic payment (PMT): \"))\n",
    "    R = float(input(\"Enter the annual interest rate (in decimal): \"))\n",
    "    n = int(input(\"Enter the number of times interest is compounded per year: \"))\n",
    "    t = float(input(\"Enter the number of years: \"))\n",
    "\n",
    "    A = calculate_annuity(PMT, R, n, t)\n",
    "    print(\"The annuity plan is:\", A)\n",
    "\n",
    "if __name__ == \"__main__\":\n",
    "    main()\n"
   ]
  },
  {
   "cell_type": "code",
   "execution_count": null,
   "id": "5e4ed659-b651-4b44-8532-a06540043e9f",
   "metadata": {},
   "outputs": [],
   "source": []
  }
 ],
 "metadata": {
  "kernelspec": {
   "display_name": "Python 3 (ipykernel)",
   "language": "python",
   "name": "python3"
  },
  "language_info": {
   "codemirror_mode": {
    "name": "ipython",
    "version": 3
   },
   "file_extension": ".py",
   "mimetype": "text/x-python",
   "name": "python",
   "nbconvert_exporter": "python",
   "pygments_lexer": "ipython3",
   "version": "3.11.7"
  }
 },
 "nbformat": 4,
 "nbformat_minor": 5
}
