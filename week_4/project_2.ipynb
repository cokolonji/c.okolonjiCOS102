{
 "cells": [
  {
   "cell_type": "code",
   "execution_count": 1,
   "id": "0070ef32-a469-4897-9cf0-b43b6a801a42",
   "metadata": {},
   "outputs": [
    {
     "name": "stdout",
     "output_type": "stream",
     "text": [
      "Welcome to Izifin Technologies\n"
     ]
    },
    {
     "name": "stdin",
     "output_type": "stream",
     "text": [
      "Your name please:  h\n",
      "Years of Experience:  89\n",
      "Age:  99\n"
     ]
    },
    {
     "name": "stdout",
     "output_type": "stream",
     "text": [
      "\n",
      "Annual tax revenue for h: NGN 5,600,000.00\n"
     ]
    }
   ],
   "source": [
    "print('Welcome to Izifin Technologies')\n",
    "staff_name = input('Your name please: ')\n",
    "staff_year_of_experience = int(input('Years of Experience: '))\n",
    "staff_age = int(input('Age: '))\n",
    "\n",
    "def calculate_atr(years_of_experience, age):\n",
    "    \"\"\"\n",
    "    Function to calculate the annual tax revenue (ATR) based on years of experience and age.\n",
    "    \"\"\"\n",
    "    if years_of_experience > 25 and age >= 55:\n",
    "        return 5600000\n",
    "    elif years_of_experience > 20 and age >= 45:\n",
    "        return 4480000\n",
    "    elif years_of_experience > 10 and age >= 35:\n",
    "        return 1500000\n",
    "    elif years_of_experience < 10 and age < 35:\n",
    "        return 550000\n",
    "    else:\n",
    "        return 0\n",
    "\n",
    "atr = calculate_atr(staff_year_of_experience, staff_age)\n",
    "print(f\"\\nAnnual tax revenue for {staff_name}: NGN {atr:,.2f}\")"
   ]
  },
  {
   "cell_type": "code",
   "execution_count": null,
   "id": "7c4fb17e-c91c-4495-b435-570bcec299ee",
   "metadata": {},
   "outputs": [],
   "source": []
  }
 ],
 "metadata": {
  "kernelspec": {
   "display_name": "Python 3 (ipykernel)",
   "language": "python",
   "name": "python3"
  },
  "language_info": {
   "codemirror_mode": {
    "name": "ipython",
    "version": 3
   },
   "file_extension": ".py",
   "mimetype": "text/x-python",
   "name": "python",
   "nbconvert_exporter": "python",
   "pygments_lexer": "ipython3",
   "version": "3.11.7"
  }
 },
 "nbformat": 4,
 "nbformat_minor": 5
}
