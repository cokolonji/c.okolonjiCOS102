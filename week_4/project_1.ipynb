{
 "cells": [
  {
   "cell_type": "code",
   "execution_count": 5,
   "id": "1e01b74f-32df-4790-aee2-8e07defc9bfd",
   "metadata": {},
   "outputs": [
    {
     "name": "stdout",
     "output_type": "stream",
     "text": [
      "\n",
      "Table for Girls\n",
      "Name | Age | Height | Scores|\n",
      "Evelyn | 17 | 5.5 | 80|\n",
      "Jessica | 16 | 6.0 | 85|\n",
      "Somto | 17 | 5.4 | 70|\n",
      "Edith | 18 | 5.9 | 60|\n",
      "Liza | 16 | 5.6 | 76|\n",
      "Madonna | 18 | 5.5 | 66|\n",
      "Waje | 17 | 6.1 | 87|\n",
      "Tola | 20 | 6.0 | 95|\n",
      "Aisha | 19 | 5.7 | 50|\n",
      "Latifa | 17 | 5.5 | 49|\n",
      "\n",
      "Table for Boys\n",
      "Name | Age | Height | Scores|\n",
      "Chinedu | 19 | 5.7 | 74|\n",
      "Liam | 16 | 7.5 | 87|\n",
      "Wale | 18 | 5.8 | 75|\n",
      "Gbenga | 17 | 6.1 | 68|\n",
      "Abiola | 20 | 5.9 | 66|\n",
      "Kola | 19 | 5.5 | 78|\n",
      "Kunle | 16 | 6.1 | 87|\n",
      "George | 18 | 5.4 | 98|\n",
      "Thomas | 17 | 5.8 | 54|\n",
      "Wesley | 19 | 5.7 | 60|\n"
     ]
    }
   ],
   "source": [
    "#Class of 20 students\n",
    "\n",
    "def print_table(data):\n",
    "    \"\"\"\n",
    "    Function to print the table for either girls or boys.\n",
    "    \"\"\"\n",
    "    print('Name | Age | Height | Scores|')\n",
    "    for name, details in data.items():\n",
    "        age, height, scores = details\n",
    "        print(f'{name} | {age} | {height} | {scores}|')\n",
    "\n",
    "# Data for girls\n",
    "girls = {\n",
    "    'Evelyn':  [17, 5.5, 80],\n",
    "    'Jessica': [16, 6.0, 85],\n",
    "    'Somto':   [17, 5.4, 70],\n",
    "    'Edith':   [18, 5.9, 60],\n",
    "    'Liza':    [16, 5.6, 76],\n",
    "    'Madonna': [18, 5.5, 66],\n",
    "    'Waje':    [17, 6.1, 87],\n",
    "    'Tola':    [20, 6.0, 95],\n",
    "    'Aisha':   [19, 5.7, 50],\n",
    "    'Latifa':  [17, 5.5, 49]\n",
    "}\n",
    "\n",
    "# Data for boys\n",
    "boys = {\n",
    "    'Chinedu': [19, 5.7, 74],\n",
    "    'Liam':    [16, 7.5, 87],\n",
    "    'Wale':    [18, 5.8, 75],\n",
    "    'Gbenga':  [17, 6.1, 68],\n",
    "    'Abiola':  [20, 5.9, 66],\n",
    "    'Kola':    [19, 5.5, 78],\n",
    "    'Kunle':   [16, 6.1, 87],\n",
    "    'George':  [18, 5.4, 98],\n",
    "    'Thomas':  [17, 5.8, 54],\n",
    "    'Wesley':  [19, 5.7, 60]\n",
    "}\n",
    "\n",
    "# Print tables for girls and boys\n",
    "print(\"\\nTable for Girls\")\n",
    "print_table(girls)\n",
    "\n",
    "print(\"\\nTable for Boys\")\n",
    "print_table(boys)\n"
   ]
  },
  {
   "cell_type": "code",
   "execution_count": null,
   "id": "053244ff-9eb9-481b-b7c8-40eb016d7154",
   "metadata": {},
   "outputs": [],
   "source": []
  }
 ],
 "metadata": {
  "kernelspec": {
   "display_name": "Python 3 (ipykernel)",
   "language": "python",
   "name": "python3"
  },
  "language_info": {
   "codemirror_mode": {
    "name": "ipython",
    "version": 3
   },
   "file_extension": ".py",
   "mimetype": "text/x-python",
   "name": "python",
   "nbconvert_exporter": "python",
   "pygments_lexer": "ipython3",
   "version": "3.11.7"
  }
 },
 "nbformat": 4,
 "nbformat_minor": 5
}
