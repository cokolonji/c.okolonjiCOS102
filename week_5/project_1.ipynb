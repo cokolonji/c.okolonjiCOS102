{
 "cells": [
  {
   "cell_type": "code",
   "execution_count": 45,
   "id": "cda5728d-f060-4114-83a2-d5f3d5e9277b",
   "metadata": {},
   "outputs": [
    {
     "name": "stdout",
     "output_type": "stream",
     "text": [
      "Index(['S/N', 'SURNAME', 'FIRST NAME', 'DEPARTMENT'], dtype='object')\n"
     ]
    }
   ],
   "source": [
    "import tkinter as tk\n",
    "from tkinter import messagebox\n",
    "import pandas as pd\n",
    "\n",
    "# Function to check if the employee exists and display relevant information\n",
    "def check_employee():\n",
    "    SURNAME = surname_entry.get()\n",
    "    FIRSTNAME = firstname_entry.get()\n",
    "    DEPARTMENT = department_entry.get()\n",
    "    \n",
    "    # Read the CSV file\n",
    "    try:\n",
    "        file_path = \"GIG-logistics.csv\"\n",
    "        data = pd.read_csv(\"GIG-logistics.csv\")\n",
    "        print(data.columns)\n",
    "\n",
    "    except FileNotFoundError:\n",
    "        messagebox.showerror(\"Error\", \"File not found!\")\n",
    "        return\n",
    "    \n",
    "    # Check if employee exists\n",
    "    employee = data[(data['SURNAME'] == SURNAME) & (data['FIRST NAME'] == FIRSTNAME) & (data['DEPARTMENT'] == DEPARTMENT)]\n",
    "    \n",
    "    if not employee.empty:\n",
    "        messagebox.showinfo(\"Welcome\", f\"Welcome {SURNAME}, {FIRSTNAME} from {DEPARTMENT} department!\")\n",
    "        # Display other members of the department\n",
    "        department_members = data[data['DEPARTMENT'] == DEPARTMENT]['SURNAME'].tolist()\n",
    "        department_members.remove(SURNAME)  # Remove the current employee from the list\n",
    "        messagebox.showinfo(\"Department Members\", f\"Other members of {DEPARTMENT} department:\\n{', '.join(department_members)}\")\n",
    "        \n",
    "    else:\n",
    "        messagebox.showerror(\"Error\", \"Employee does not exist!\")\n",
    "\n",
    "# Create GUI\n",
    "root = tk.Tk()\n",
    "root.title(\"Employee Verification\")\n",
    "\n",
    "# Labels\n",
    "tk.Label(root, text=\"Surname:\").grid(row=0, column=0, padx=5, pady=5)\n",
    "tk.Label(root, text=\"Firstname:\").grid(row=1, column=0, padx=5, pady=5)\n",
    "tk.Label(root, text=\"Department:\").grid(row=2, column=0, padx=5, pady=5)\n",
    "\n",
    "# Entry fields\n",
    "firstname_entry = tk.Entry(root)\n",
    "surname_entry = tk.Entry(root)\n",
    "department_entry = tk.Entry(root)\n",
    "surname_entry.grid(row=0, column=1, padx=5, pady=5)\n",
    "firstname_entry.grid(row=1, column=1, padx=5, pady=5)\n",
    "department_entry.grid(row=2, column=1, padx=5, pady=5)\n",
    "\n",
    "# Submit button\n",
    "submit_button = tk.Button(root, text=\"Check Employee\", command=check_employee)\n",
    "submit_button.grid(row=3, column=0, columnspan=2, padx=5, pady=5)\n",
    "\n",
    "root.mainloop()\n"
   ]
  },
  {
   "cell_type": "code",
   "execution_count": null,
   "id": "58cc8eb6-0c17-4258-bc64-549349f2721a",
   "metadata": {},
   "outputs": [],
   "source": []
  }
 ],
 "metadata": {
  "kernelspec": {
   "display_name": "Python 3 (ipykernel)",
   "language": "python",
   "name": "python3"
  },
  "language_info": {
   "codemirror_mode": {
    "name": "ipython",
    "version": 3
   },
   "file_extension": ".py",
   "mimetype": "text/x-python",
   "name": "python",
   "nbconvert_exporter": "python",
   "pygments_lexer": "ipython3",
   "version": "3.11.7"
  }
 },
 "nbformat": 4,
 "nbformat_minor": 5
}
